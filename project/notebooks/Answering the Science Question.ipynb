{
 "cells": [
  {
   "cell_type": "markdown",
   "id": "9dc175c8-f744-4655-9037-b313c486c951",
   "metadata": {},
   "source": [
    "# Answering the Science Question\n",
    "\n",
    "This notebook serves as a demo for answering the science question underlying the design of Mike's Calfornia Current regional model. You can follow and/or adapt this notebook based on your science question.\n",
    "\n",
    "For reference, the science question for Mike's model is: **How do winds affect ocean temperature in the California Current?**\n",
    "\n",
    "First, import packages to re-create and visualize the model fields here:"
   ]
  },
  {
   "cell_type": "code",
   "execution_count": 1,
   "id": "836f57c0-6983-48ce-b8a0-31c5b04463a7",
   "metadata": {},
   "outputs": [],
   "source": [
    "import os\n",
    "import numpy as np\n",
    "import matplotlib.pyplot as plt\n",
    "from datetime import datetime, timedelta"
   ]
  },
  {
   "cell_type": "markdown",
   "id": "9ea649be-1868-47e6-a895-1cf4b03d5cdf",
   "metadata": {},
   "source": [
    "Next, define the location of the project directory for the model:"
   ]
  },
  {
   "cell_type": "code",
   "execution_count": 2,
   "id": "08d8f138-1542-4af2-845e-ab0acad86dec",
   "metadata": {},
   "outputs": [],
   "source": [
    "# define the input directory\n",
    "project_dir = 'C:\\\\Users\\\\the_n\\\\Desktop\\\\sjsu\\\\F24\\\\CS185C\\\\project'"
   ]
  },
  {
   "cell_type": "markdown",
   "id": "49731d1b-529f-470f-974a-a32b3a8c59ac",
   "metadata": {},
   "source": [
    "Then, re-create the model grid"
   ]
  },
  {
   "cell_type": "code",
   "execution_count": 3,
   "id": "e05b4415-bbe3-4aea-92a2-cdfe6910c41c",
   "metadata": {},
   "outputs": [],
   "source": [
    "# define the parameters that will be used in the data file\n",
    "delX = 1/4\n",
    "delY = 1/4\n",
    "xgOrigin = 115\n",
    "ygOrigin = -23\n",
    "n_rows = 352\n",
    "n_cols = 512\n",
    "\n",
    "# recreate the grids that will be used in the model\n",
    "xc = np.arange(xgOrigin+delX/2, xgOrigin+n_cols*delX, delX)\n",
    "yc = np.arange(ygOrigin+delY/2, ygOrigin+n_rows*delY+delY/2, delY)\n",
    "XC, YC = np.meshgrid(xc, yc)\n"
   ]
  },
  {
   "cell_type": "markdown",
   "id": "4d2f3545-cc2a-4109-b7a0-716b5c968a56",
   "metadata": {},
   "source": [
    "## Plot a model field at one timestep\n",
    "To assess the temperature differences spatially, I'll plot the differences between the model results with and without wind. I'll choose one field near the end of my simulation:"
   ]
  },
  {
   "cell_type": "code",
   "execution_count": 4,
   "id": "5a57a8e7-81eb-4b39-9736-7182649538d3",
   "metadata": {},
   "outputs": [],
   "source": [
    "# read in the grid with the tsunami\n",
    "grid_tsunami = np.fromfile(os.path.join(project_dir,'run-tsunami','diags',\n",
    "                                     'EtaN_hrly_snap',\n",
    "                                     'EtaN_hrly_snap.0000014400.data'), '>f4')\n",
    "grid_tsunami = grid_tsunami.reshape((2,n_rows,n_cols))\n",
    "\n",
    "# read in the grid without the tsunami\n",
    "grid_no_tsunami = np.fromfile(os.path.join(project_dir,'run','diags',\n",
    "                                     'EtaN_hrly_snap',\n",
    "                                     'EtaN_hrly_snap.0000014400.data'), '>f4')\n",
    "grid_no_tsunami = grid_no_tsunami.reshape((2,n_rows,n_cols))"
   ]
  },
  {
   "cell_type": "code",
   "execution_count": 4,
   "id": "637d26a9-32ae-4d3d-84bf-6e5d7040ff68",
   "metadata": {},
   "outputs": [
    {
     "ename": "NameError",
     "evalue": "name 'grid_tsunami' is not defined",
     "output_type": "error",
     "traceback": [
      "\u001b[1;31m---------------------------------------------------------------------------\u001b[0m",
      "\u001b[1;31mNameError\u001b[0m                                 Traceback (most recent call last)",
      "Cell \u001b[1;32mIn[4], line 2\u001b[0m\n\u001b[0;32m      1\u001b[0m \u001b[38;5;66;03m# plot the differences\u001b[39;00m\n\u001b[1;32m----> 2\u001b[0m C \u001b[38;5;241m=\u001b[39m plt\u001b[38;5;241m.\u001b[39mpcolormesh(grid_tsunami[\u001b[38;5;241m0\u001b[39m,:,:\u001b[38;5;241m-\u001b[39m\u001b[38;5;241m1\u001b[39m]\u001b[38;5;241m-\u001b[39mgrid_no_tsunami[\u001b[38;5;241m0\u001b[39m,:,:\u001b[38;5;241m-\u001b[39m\u001b[38;5;241m1\u001b[39m],\n\u001b[0;32m      3\u001b[0m                    cmap\u001b[38;5;241m=\u001b[39m\u001b[38;5;124m'\u001b[39m\u001b[38;5;124mviridis\u001b[39m\u001b[38;5;124m'\u001b[39m)\n\u001b[0;32m      4\u001b[0m plt\u001b[38;5;241m.\u001b[39mcolorbar(C)\n\u001b[0;32m      5\u001b[0m plt\u001b[38;5;241m.\u001b[39mtitle(\u001b[38;5;124m'\u001b[39m\u001b[38;5;124mModel results (With tsunami - Without tsunmai)\u001b[39m\u001b[38;5;124m'\u001b[39m)\n",
      "\u001b[1;31mNameError\u001b[0m: name 'grid_tsunami' is not defined"
     ]
    }
   ],
   "source": [
    "# plot the differences\n",
    "C = plt.pcolormesh(grid_tsunami[0,:,:-1]-grid_no_tsunami[0,:,:-1],\n",
    "                   cmap='viridis')\n",
    "plt.colorbar(C)\n",
    "plt.title('Model results (With tsunami - Without tsunmai)')\n",
    "plt.show()"
   ]
  },
  {
   "cell_type": "markdown",
   "id": "b8254b7a-a009-4966-816c-b5870afe914a",
   "metadata": {},
   "source": [
    "**This is where I would have observed the difference between my model run with the normal ETAN and the model run with the ETAN file with raised sea level that simulates the tsunami. If i was able to successfully run the models, I specificially be looking to see the seasurface height at the point of the simulated earthquake and a point very close to the coast of the Bay Area in California. Depending on how high the sea surface is at these points, especially at the bay, compared agaisnt what the normal sea surface should look like, would give me a good picture of how big of a tsunami would hit the Bay Area given a tsunami started at my specific test point.**"
   ]
  },
  {
   "cell_type": "markdown",
   "id": "94c737e8-1343-428f-a808-dd15348b7c2e",
   "metadata": {},
   "source": [
    "## Make a timeseries\n",
    "Next we can see how the differences between the models is evolving through time. For this example, I'll choose a point in the domain near the coast as in my previous notebook:"
   ]
  },
  {
   "cell_type": "code",
   "execution_count": 6,
   "id": "6c40b8ad-a55e-4e19-926e-052d00c45c02",
   "metadata": {},
   "outputs": [],
   "source": [
    "row = 125\n",
    "col = 150"
   ]
  },
  {
   "cell_type": "markdown",
   "id": "de0fb82e-7ec8-46d4-847b-df08b0f307cd",
   "metadata": {},
   "source": [
    "Next, I'll define a quick function to convert my iteration numbers to date and time information."
   ]
  },
  {
   "cell_type": "code",
   "execution_count": 7,
   "id": "3c878cd0-d1ee-4dc6-938c-69b2d45f46aa",
   "metadata": {},
   "outputs": [],
   "source": [
    "def iter_number_to_date(iter_number,seconds_per_iter=300):\n",
    "    total_seconds = iter_number*seconds_per_iter\n",
    "    date = datetime(2008,1,15) + timedelta(seconds=total_seconds)\n",
    "    return(date)"
   ]
  },
  {
   "cell_type": "markdown",
   "id": "0ca21d89-12f8-4f53-95c7-9de6cb49d20b",
   "metadata": {},
   "source": [
    "Then, I'll loop through all of the output files to generate a timeseries:"
   ]
  },
  {
   "cell_type": "code",
   "execution_count": 8,
   "id": "ac9839c9-2f1c-4b22-944c-718553075eca",
   "metadata": {},
   "outputs": [],
   "source": [
    "timestep_dates = []\n",
    "theta_wind_values = []\n",
    "theta_no_wind_values = []\n",
    "for file_name in sorted(os.listdir(os.path.join(project_dir,'run_no_wind','diags','TS_surf_daily_mean'))):\n",
    "    if file_name[-4:]=='data':\n",
    "        # get the timestep number\n",
    "        timestep_number = int(file_name.split('.')[-2])\n",
    "        timestep_dates.append(iter_number_to_date(timestep_number))\n",
    "\n",
    "        # read in the grid with the wind\n",
    "        grid_wind = np.fromfile(os.path.join(project_dir,'run','diags',\n",
    "                                             'TS_surf_daily_mean',\n",
    "                                             file_name), '>f4')\n",
    "        grid_wind = grid_wind.reshape((2,n_rows,n_cols))\n",
    "        \n",
    "        # read in the grid without the wind\n",
    "        grid_no_wind = np.fromfile(os.path.join(project_dir,'run_no_wind','diags',\n",
    "                                             'TS_surf_daily_mean',\n",
    "                                             file_name), '>f4')\n",
    "        grid_no_wind = grid_no_wind.reshape((2,n_rows,n_cols))\n",
    "\n",
    "        theta_wind_values.append(grid_wind[0,row,col])\n",
    "        theta_no_wind_values.append(grid_no_wind[0,row,col])"
   ]
  },
  {
   "cell_type": "markdown",
   "id": "4e73028c-4fc6-4d6d-8d5d-667c7a1dd9b2",
   "metadata": {},
   "source": [
    "Finally, I'll plot the timeseries to see the comparison:"
   ]
  },
  {
   "cell_type": "code",
   "execution_count": 9,
   "id": "0d63430a-47fd-4346-9ced-3e2559c03ff5",
   "metadata": {},
   "outputs": [
    {
     "data": {
      "image/png": "[encoded data removed]",
      "text/plain": [
       "<Figure size 640x480 with 1 Axes>"
      ]
     },
     "metadata": {},
     "output_type": "display_data"
    }
   ],
   "source": [
    "plt.plot(timestep_dates, theta_wind_values,'b-',label='With Wind')\n",
    "plt.plot(timestep_dates, theta_no_wind_values,'r-',label='No Wind')\n",
    "plt.ylabel('Temperature ($^{\\circ}$C)')\n",
    "plt.xlabel('Model timestep')\n",
    "plt.legend()\n",
    "plt.grid(linestyle='--',linewidth=0.5)\n",
    "plt.show()"
   ]
  },
  {
   "cell_type": "markdown",
   "id": "c7c7cce5-b205-42e1-8332-f56cc75d4380",
   "metadata": {},
   "source": [
    "**If I was able to get a model successfully running, I would have loved to analyze the height of the sea surface off the coast of the Bay Area on an hourly basis and calculate the potential impact if a tsunami wave of that size were to hit California. Depending on my calculated results, I also would have liked to test other initial points for a tsunami to start from and see how this caused the wave to differ in size and time it takes for the tsunami to hit the bay.**"
   ]
  },
  {
   "cell_type": "markdown",
   "id": "42239931",
   "metadata": {},
   "source": [
    "**For a visualization movie, I probably would have made a plot of the Bay Area and shown the change in sea surface height each hour after the tsunami-creating earthquake happened. This likely would show that the seasurface height is normal for a few hours, then once the wave crossed the Pacific, you would be able to see the sea surface height rise. It is possible that a few more hours after the tsunami, their may be another smaller tsunami created from a tsunami wave created from the same earthquake went the other direction and hit the Eastern coast of Asia, then bounced back accross the Pacific creating smaller tsunami waves on the coast of california, sort of similar to an aftershock but with tsunami waves.**"
   ]
  },
  {
   "cell_type": "markdown",
   "id": "5ec64d24",
   "metadata": {},
   "source": [
    "**My science question also has never been more relavant with the threat of a tsunami hitting the Bay Area on December 7th 2024. This threat turned out to be unfounded as just a few hours after the warning, the warning was dismissed and no tsunami-sized waves were reported in the bay. It would be interesting to simulate this earthquake in MITgcm and see if there really was any threat of a tsunami in the Bay if there was a larger earthquake, or maybe it was simply impossible for a tsunami to hit the Bay origionating from that point off the coast of northern California.**"
   ]
  },
  {
   "cell_type": "markdown",
   "id": "a5bd4a02",
   "metadata": {},
   "source": []
  }
 ],
 "metadata": {
  "kernelspec": {
   "display_name": "cs185C",
   "language": "python",
   "name": "python3"
  },
  "language_info": {
   "codemirror_mode": {
    "name": "ipython",
    "version": 3
   },
   "file_extension": ".py",
   "mimetype": "text/x-python",
   "name": "python",
   "nbconvert_exporter": "python",
   "pygments_lexer": "ipython3",
   "version": "3.11.9"
  }
 },
 "nbformat": 4,
 "nbformat_minor": 5
}
